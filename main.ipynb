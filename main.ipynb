{
 "cells": [
  {
   "cell_type": "markdown",
   "id": "ff2e6470",
   "metadata": {},
   "source": [
    "# Laboratorio 8 – Anomalías\n",
    "\n",
    "Los métodos utilizados fueron:\n",
    "- Autoencoder: red neuronal que aprende a reconstruir los datos normales.\n",
    "- Isolation Forest: modelo basado en árboles que aísla ejemplos anómalos más rápido.\n",
    "- Local Outlier Factor (LOF): evalúa la densidad local y detecta puntos que se alejan del vecindario.\n",
    "\n",
    "### Preparación de los datos"
   ]
  },
  {
   "cell_type": "code",
   "execution_count": 4,
   "id": "215530f6",
   "metadata": {},
   "outputs": [
    {
     "name": "stderr",
     "output_type": "stream",
     "text": [
      "C:\\Users\\cvall\\AppData\\Local\\Temp\\ipykernel_19860\\481996925.py:19: SettingWithCopyWarning: \n",
      "A value is trying to be set on a copy of a slice from a DataFrame.\n",
      "Try using .loc[row_indexer,col_indexer] = value instead\n",
      "\n",
      "See the caveats in the documentation: https://pandas.pydata.org/pandas-docs/stable/user_guide/indexing.html#returning-a-view-versus-a-copy\n",
      "  X[num_cols] = scaler.fit_transform(X[num_cols])\n"
     ]
    },
    {
     "data": {
      "text/html": [
       "<div>\n",
       "<style scoped>\n",
       "    .dataframe tbody tr th:only-of-type {\n",
       "        vertical-align: middle;\n",
       "    }\n",
       "\n",
       "    .dataframe tbody tr th {\n",
       "        vertical-align: top;\n",
       "    }\n",
       "\n",
       "    .dataframe thead th {\n",
       "        text-align: right;\n",
       "    }\n",
       "</style>\n",
       "<table border=\"1\" class=\"dataframe\">\n",
       "  <thead>\n",
       "    <tr style=\"text-align: right;\">\n",
       "      <th></th>\n",
       "      <th>Elevation</th>\n",
       "      <th>Aspect</th>\n",
       "      <th>Slope</th>\n",
       "      <th>Horizontal_Distance_To_Hydrology</th>\n",
       "      <th>Vertical_Distance_To_Hydrology</th>\n",
       "      <th>Horizontal_Distance_To_Roadways</th>\n",
       "      <th>Hillshade_9am</th>\n",
       "      <th>Hillshade_Noon</th>\n",
       "      <th>Hillshade_3pm</th>\n",
       "      <th>Horizontal_Distance_To_Fire_Points</th>\n",
       "      <th>...</th>\n",
       "      <th>Soil_Type35</th>\n",
       "      <th>Soil_Type36</th>\n",
       "      <th>Soil_Type37</th>\n",
       "      <th>Soil_Type38</th>\n",
       "      <th>Soil_Type39</th>\n",
       "      <th>Soil_Type40</th>\n",
       "      <th>Wilderness_Area2</th>\n",
       "      <th>Wilderness_Area3</th>\n",
       "      <th>Wilderness_Area4</th>\n",
       "      <th>label</th>\n",
       "    </tr>\n",
       "  </thead>\n",
       "  <tbody>\n",
       "    <tr>\n",
       "      <th>0</th>\n",
       "      <td>-1.297805</td>\n",
       "      <td>-0.935157</td>\n",
       "      <td>-1.482820</td>\n",
       "      <td>-0.053767</td>\n",
       "      <td>-0.796273</td>\n",
       "      <td>-1.180146</td>\n",
       "      <td>0.330743</td>\n",
       "      <td>0.439143</td>\n",
       "      <td>0.142960</td>\n",
       "      <td>3.246283</td>\n",
       "      <td>...</td>\n",
       "      <td>0</td>\n",
       "      <td>0</td>\n",
       "      <td>0</td>\n",
       "      <td>0</td>\n",
       "      <td>0</td>\n",
       "      <td>0</td>\n",
       "      <td>0</td>\n",
       "      <td>0</td>\n",
       "      <td>0</td>\n",
       "      <td>1</td>\n",
       "    </tr>\n",
       "    <tr>\n",
       "      <th>1</th>\n",
       "      <td>-1.319235</td>\n",
       "      <td>-0.890480</td>\n",
       "      <td>-1.616363</td>\n",
       "      <td>-0.270188</td>\n",
       "      <td>-0.899197</td>\n",
       "      <td>-1.257106</td>\n",
       "      <td>0.293388</td>\n",
       "      <td>0.590899</td>\n",
       "      <td>0.221342</td>\n",
       "      <td>3.205504</td>\n",
       "      <td>...</td>\n",
       "      <td>0</td>\n",
       "      <td>0</td>\n",
       "      <td>0</td>\n",
       "      <td>0</td>\n",
       "      <td>0</td>\n",
       "      <td>0</td>\n",
       "      <td>0</td>\n",
       "      <td>0</td>\n",
       "      <td>0</td>\n",
       "      <td>1</td>\n",
       "    </tr>\n",
       "    <tr>\n",
       "      <th>2</th>\n",
       "      <td>-0.554907</td>\n",
       "      <td>-0.148836</td>\n",
       "      <td>-0.681563</td>\n",
       "      <td>-0.006719</td>\n",
       "      <td>0.318742</td>\n",
       "      <td>0.532212</td>\n",
       "      <td>0.816364</td>\n",
       "      <td>0.742654</td>\n",
       "      <td>-0.196691</td>\n",
       "      <td>3.126965</td>\n",
       "      <td>...</td>\n",
       "      <td>0</td>\n",
       "      <td>0</td>\n",
       "      <td>0</td>\n",
       "      <td>0</td>\n",
       "      <td>0</td>\n",
       "      <td>0</td>\n",
       "      <td>0</td>\n",
       "      <td>0</td>\n",
       "      <td>0</td>\n",
       "      <td>0</td>\n",
       "    </tr>\n",
       "    <tr>\n",
       "      <th>3</th>\n",
       "      <td>-0.622768</td>\n",
       "      <td>-0.005869</td>\n",
       "      <td>0.520322</td>\n",
       "      <td>-0.129044</td>\n",
       "      <td>1.227908</td>\n",
       "      <td>0.474492</td>\n",
       "      <td>0.965786</td>\n",
       "      <td>0.742654</td>\n",
       "      <td>-0.536343</td>\n",
       "      <td>3.194931</td>\n",
       "      <td>...</td>\n",
       "      <td>0</td>\n",
       "      <td>0</td>\n",
       "      <td>0</td>\n",
       "      <td>0</td>\n",
       "      <td>0</td>\n",
       "      <td>0</td>\n",
       "      <td>0</td>\n",
       "      <td>0</td>\n",
       "      <td>0</td>\n",
       "      <td>0</td>\n",
       "    </tr>\n",
       "    <tr>\n",
       "      <th>4</th>\n",
       "      <td>-1.301377</td>\n",
       "      <td>-0.988770</td>\n",
       "      <td>-1.616363</td>\n",
       "      <td>-0.547771</td>\n",
       "      <td>-0.813427</td>\n",
       "      <td>-1.256464</td>\n",
       "      <td>0.293388</td>\n",
       "      <td>0.540313</td>\n",
       "      <td>0.195215</td>\n",
       "      <td>3.165479</td>\n",
       "      <td>...</td>\n",
       "      <td>0</td>\n",
       "      <td>0</td>\n",
       "      <td>0</td>\n",
       "      <td>0</td>\n",
       "      <td>0</td>\n",
       "      <td>0</td>\n",
       "      <td>0</td>\n",
       "      <td>0</td>\n",
       "      <td>0</td>\n",
       "      <td>1</td>\n",
       "    </tr>\n",
       "  </tbody>\n",
       "</table>\n",
       "<p>5 rows × 55 columns</p>\n",
       "</div>"
      ],
      "text/plain": [
       "   Elevation    Aspect     Slope  Horizontal_Distance_To_Hydrology  \\\n",
       "0  -1.297805 -0.935157 -1.482820                         -0.053767   \n",
       "1  -1.319235 -0.890480 -1.616363                         -0.270188   \n",
       "2  -0.554907 -0.148836 -0.681563                         -0.006719   \n",
       "3  -0.622768 -0.005869  0.520322                         -0.129044   \n",
       "4  -1.301377 -0.988770 -1.616363                         -0.547771   \n",
       "\n",
       "   Vertical_Distance_To_Hydrology  Horizontal_Distance_To_Roadways  \\\n",
       "0                       -0.796273                        -1.180146   \n",
       "1                       -0.899197                        -1.257106   \n",
       "2                        0.318742                         0.532212   \n",
       "3                        1.227908                         0.474492   \n",
       "4                       -0.813427                        -1.256464   \n",
       "\n",
       "   Hillshade_9am  Hillshade_Noon  Hillshade_3pm  \\\n",
       "0       0.330743        0.439143       0.142960   \n",
       "1       0.293388        0.590899       0.221342   \n",
       "2       0.816364        0.742654      -0.196691   \n",
       "3       0.965786        0.742654      -0.536343   \n",
       "4       0.293388        0.540313       0.195215   \n",
       "\n",
       "   Horizontal_Distance_To_Fire_Points  ...  Soil_Type35  Soil_Type36  \\\n",
       "0                            3.246283  ...            0            0   \n",
       "1                            3.205504  ...            0            0   \n",
       "2                            3.126965  ...            0            0   \n",
       "3                            3.194931  ...            0            0   \n",
       "4                            3.165479  ...            0            0   \n",
       "\n",
       "   Soil_Type37  Soil_Type38  Soil_Type39  Soil_Type40  Wilderness_Area2  \\\n",
       "0            0            0            0            0                 0   \n",
       "1            0            0            0            0                 0   \n",
       "2            0            0            0            0                 0   \n",
       "3            0            0            0            0                 0   \n",
       "4            0            0            0            0                 0   \n",
       "\n",
       "   Wilderness_Area3  Wilderness_Area4  label  \n",
       "0                 0                 0      1  \n",
       "1                 0                 0      1  \n",
       "2                 0                 0      0  \n",
       "3                 0                 0      0  \n",
       "4                 0                 0      1  \n",
       "\n",
       "[5 rows x 55 columns]"
      ]
     },
     "execution_count": 4,
     "metadata": {},
     "output_type": "execute_result"
    }
   ],
   "source": [
    "from ucimlrepo import fetch_ucirepo\n",
    "from sklearn.preprocessing import StandardScaler\n",
    "import pandas as pd\n",
    "import numpy as np\n",
    "\n",
    "# Cargar dataset directamente desde el repositorio UCI\n",
    "covertype = fetch_ucirepo(id=31)\n",
    "\n",
    "# Variables (features) y etiquetas (target)\n",
    "X = covertype.data.features\n",
    "y = covertype.data.targets\n",
    "\n",
    "# Separar columnas numéricas y binarias\n",
    "num_cols = [c for c in X.columns if X[c].nunique() > 2]\n",
    "bin_cols = [c for c in X.columns if X[c].nunique() == 2]\n",
    "\n",
    "# Escalar solo las numéricas\n",
    "scaler = StandardScaler()\n",
    "X[num_cols] = scaler.fit_transform(X[num_cols])\n",
    "\n",
    "# Combinar todo en un solo DataFrame\n",
    "df = X.copy()\n",
    "\n",
    "# Etiquetar: normal = tipo 2 (Lodgepole Pine), anómalo = resto\n",
    "df[\"label\"] = (y != 2).astype(int)\n",
    "\n",
    "# Vista rápida\n",
    "df.head()"
   ]
  },
  {
   "cell_type": "markdown",
   "id": "15d0058b",
   "metadata": {},
   "source": [
    "Explicación rápida (por si el profe pregunta)\n",
    "- ucimlrepo descarga el dataset de UCI más estable y devuelve pandas.DataFrame, evitando bloqueos de red.\n",
    "- Solo se escalan las variables numéricas; las binarias se dejan igual para no distorsionar su interpretación.\n",
    "- Se crea una nueva columna label donde:\n",
    "    - 0 → registros normales (Cover_Type = 2)\n",
    "    - 1 → registros anómalos (cualquier otro tipo de bosque)"
   ]
  },
  {
   "cell_type": "markdown",
   "id": "d5b467a0",
   "metadata": {},
   "source": [
    "### División de datos"
   ]
  },
  {
   "cell_type": "code",
   "execution_count": 5,
   "id": "c425570b",
   "metadata": {},
   "outputs": [
    {
     "name": "stdout",
     "output_type": "stream",
     "text": [
      "Tamaño de entrenamiento: (198310, 54)\n",
      "Tamaño validación: (42495, 54)\n",
      "Tamaño prueba: (340207, 54)\n"
     ]
    }
   ],
   "source": [
    "from sklearn.model_selection import train_test_split\n",
    "\n",
    "normal = df[df.label == 0]\n",
    "anomal = df[df.label == 1]\n",
    "\n",
    "# Autoencoder solo ve ejemplos normales\n",
    "X_train, X_temp = train_test_split(normal.drop(columns=\"label\"), test_size=0.3, random_state=42)\n",
    "X_val, X_test_norm = train_test_split(X_temp, test_size=0.5, random_state=42)\n",
    "X_test_anom = anomal.drop(columns=\"label\")\n",
    "\n",
    "# Conjunto final de prueba mezclado\n",
    "X_test = pd.concat([X_test_norm, X_test_anom])\n",
    "y_test = np.concatenate([np.zeros(len(X_test_norm)), np.ones(len(X_test_anom))])\n",
    "\n",
    "print(\"Tamaño de entrenamiento:\", X_train.shape)\n",
    "print(\"Tamaño validación:\", X_val.shape)\n",
    "print(\"Tamaño prueba:\", X_test.shape)"
   ]
  },
  {
   "cell_type": "markdown",
   "id": "3d5987aa",
   "metadata": {},
   "source": [
    "Por qué solo normales para entrenar AE:\n",
    "El autocodificador intenta aprender la estructura de los datos comunes, de modo que cuando recibe algo distinto, la reconstrucción es mala y el error aumenta. Si se entrena con anómalos, perdería esa capacidad de distinguir."
   ]
  },
  {
   "cell_type": "markdown",
   "id": "e63b004a",
   "metadata": {},
   "source": [
    "### Autoencoder"
   ]
  },
  {
   "cell_type": "code",
   "execution_count": 7,
   "id": "840b0b61",
   "metadata": {},
   "outputs": [
    {
     "name": "stdout",
     "output_type": "stream",
     "text": [
      "Estructura del Autoencoder:\n"
     ]
    },
    {
     "data": {
      "text/html": [
       "<pre style=\"white-space:pre;overflow-x:auto;line-height:normal;font-family:Menlo,'DejaVu Sans Mono',consolas,'Courier New',monospace\"><span style=\"font-weight: bold\">Model: \"functional\"</span>\n",
       "</pre>\n"
      ],
      "text/plain": [
       "\u001b[1mModel: \"functional\"\u001b[0m\n"
      ]
     },
     "metadata": {},
     "output_type": "display_data"
    },
    {
     "data": {
      "text/html": [
       "<pre style=\"white-space:pre;overflow-x:auto;line-height:normal;font-family:Menlo,'DejaVu Sans Mono',consolas,'Courier New',monospace\">┏━━━━━━━━━━━━━━━━━━━━━━━━━━━━━━━━━┳━━━━━━━━━━━━━━━━━━━━━━━━┳━━━━━━━━━━━━━━━┓\n",
       "┃<span style=\"font-weight: bold\"> Layer (type)                    </span>┃<span style=\"font-weight: bold\"> Output Shape           </span>┃<span style=\"font-weight: bold\">       Param # </span>┃\n",
       "┡━━━━━━━━━━━━━━━━━━━━━━━━━━━━━━━━━╇━━━━━━━━━━━━━━━━━━━━━━━━╇━━━━━━━━━━━━━━━┩\n",
       "│ input_layer (<span style=\"color: #0087ff; text-decoration-color: #0087ff\">InputLayer</span>)        │ (<span style=\"color: #00d7ff; text-decoration-color: #00d7ff\">None</span>, <span style=\"color: #00af00; text-decoration-color: #00af00\">54</span>)             │             <span style=\"color: #00af00; text-decoration-color: #00af00\">0</span> │\n",
       "├─────────────────────────────────┼────────────────────────┼───────────────┤\n",
       "│ dense (<span style=\"color: #0087ff; text-decoration-color: #0087ff\">Dense</span>)                   │ (<span style=\"color: #00d7ff; text-decoration-color: #00d7ff\">None</span>, <span style=\"color: #00af00; text-decoration-color: #00af00\">32</span>)             │         <span style=\"color: #00af00; text-decoration-color: #00af00\">1,760</span> │\n",
       "├─────────────────────────────────┼────────────────────────┼───────────────┤\n",
       "│ dense_1 (<span style=\"color: #0087ff; text-decoration-color: #0087ff\">Dense</span>)                 │ (<span style=\"color: #00d7ff; text-decoration-color: #00d7ff\">None</span>, <span style=\"color: #00af00; text-decoration-color: #00af00\">16</span>)             │           <span style=\"color: #00af00; text-decoration-color: #00af00\">528</span> │\n",
       "├─────────────────────────────────┼────────────────────────┼───────────────┤\n",
       "│ dense_2 (<span style=\"color: #0087ff; text-decoration-color: #0087ff\">Dense</span>)                 │ (<span style=\"color: #00d7ff; text-decoration-color: #00d7ff\">None</span>, <span style=\"color: #00af00; text-decoration-color: #00af00\">32</span>)             │           <span style=\"color: #00af00; text-decoration-color: #00af00\">544</span> │\n",
       "├─────────────────────────────────┼────────────────────────┼───────────────┤\n",
       "│ dense_3 (<span style=\"color: #0087ff; text-decoration-color: #0087ff\">Dense</span>)                 │ (<span style=\"color: #00d7ff; text-decoration-color: #00d7ff\">None</span>, <span style=\"color: #00af00; text-decoration-color: #00af00\">54</span>)             │         <span style=\"color: #00af00; text-decoration-color: #00af00\">1,782</span> │\n",
       "└─────────────────────────────────┴────────────────────────┴───────────────┘\n",
       "</pre>\n"
      ],
      "text/plain": [
       "┏━━━━━━━━━━━━━━━━━━━━━━━━━━━━━━━━━┳━━━━━━━━━━━━━━━━━━━━━━━━┳━━━━━━━━━━━━━━━┓\n",
       "┃\u001b[1m \u001b[0m\u001b[1mLayer (type)                   \u001b[0m\u001b[1m \u001b[0m┃\u001b[1m \u001b[0m\u001b[1mOutput Shape          \u001b[0m\u001b[1m \u001b[0m┃\u001b[1m \u001b[0m\u001b[1m      Param #\u001b[0m\u001b[1m \u001b[0m┃\n",
       "┡━━━━━━━━━━━━━━━━━━━━━━━━━━━━━━━━━╇━━━━━━━━━━━━━━━━━━━━━━━━╇━━━━━━━━━━━━━━━┩\n",
       "│ input_layer (\u001b[38;5;33mInputLayer\u001b[0m)        │ (\u001b[38;5;45mNone\u001b[0m, \u001b[38;5;34m54\u001b[0m)             │             \u001b[38;5;34m0\u001b[0m │\n",
       "├─────────────────────────────────┼────────────────────────┼───────────────┤\n",
       "│ dense (\u001b[38;5;33mDense\u001b[0m)                   │ (\u001b[38;5;45mNone\u001b[0m, \u001b[38;5;34m32\u001b[0m)             │         \u001b[38;5;34m1,760\u001b[0m │\n",
       "├─────────────────────────────────┼────────────────────────┼───────────────┤\n",
       "│ dense_1 (\u001b[38;5;33mDense\u001b[0m)                 │ (\u001b[38;5;45mNone\u001b[0m, \u001b[38;5;34m16\u001b[0m)             │           \u001b[38;5;34m528\u001b[0m │\n",
       "├─────────────────────────────────┼────────────────────────┼───────────────┤\n",
       "│ dense_2 (\u001b[38;5;33mDense\u001b[0m)                 │ (\u001b[38;5;45mNone\u001b[0m, \u001b[38;5;34m32\u001b[0m)             │           \u001b[38;5;34m544\u001b[0m │\n",
       "├─────────────────────────────────┼────────────────────────┼───────────────┤\n",
       "│ dense_3 (\u001b[38;5;33mDense\u001b[0m)                 │ (\u001b[38;5;45mNone\u001b[0m, \u001b[38;5;34m54\u001b[0m)             │         \u001b[38;5;34m1,782\u001b[0m │\n",
       "└─────────────────────────────────┴────────────────────────┴───────────────┘\n"
      ]
     },
     "metadata": {},
     "output_type": "display_data"
    },
    {
     "data": {
      "text/html": [
       "<pre style=\"white-space:pre;overflow-x:auto;line-height:normal;font-family:Menlo,'DejaVu Sans Mono',consolas,'Courier New',monospace\"><span style=\"font-weight: bold\"> Total params: </span><span style=\"color: #00af00; text-decoration-color: #00af00\">4,614</span> (18.02 KB)\n",
       "</pre>\n"
      ],
      "text/plain": [
       "\u001b[1m Total params: \u001b[0m\u001b[38;5;34m4,614\u001b[0m (18.02 KB)\n"
      ]
     },
     "metadata": {},
     "output_type": "display_data"
    },
    {
     "data": {
      "text/html": [
       "<pre style=\"white-space:pre;overflow-x:auto;line-height:normal;font-family:Menlo,'DejaVu Sans Mono',consolas,'Courier New',monospace\"><span style=\"font-weight: bold\"> Trainable params: </span><span style=\"color: #00af00; text-decoration-color: #00af00\">4,614</span> (18.02 KB)\n",
       "</pre>\n"
      ],
      "text/plain": [
       "\u001b[1m Trainable params: \u001b[0m\u001b[38;5;34m4,614\u001b[0m (18.02 KB)\n"
      ]
     },
     "metadata": {},
     "output_type": "display_data"
    },
    {
     "data": {
      "text/html": [
       "<pre style=\"white-space:pre;overflow-x:auto;line-height:normal;font-family:Menlo,'DejaVu Sans Mono',consolas,'Courier New',monospace\"><span style=\"font-weight: bold\"> Non-trainable params: </span><span style=\"color: #00af00; text-decoration-color: #00af00\">0</span> (0.00 B)\n",
       "</pre>\n"
      ],
      "text/plain": [
       "\u001b[1m Non-trainable params: \u001b[0m\u001b[38;5;34m0\u001b[0m (0.00 B)\n"
      ]
     },
     "metadata": {},
     "output_type": "display_data"
    },
    {
     "name": "stdout",
     "output_type": "stream",
     "text": [
      "\n",
      "Entrenando el modelo...\n",
      "Entrenamiento finalizado.\n",
      "Mejor pérdida de validación: 0.097321\n"
     ]
    },
    {
     "data": {
      "image/png": "[encoded data removed]",
      "text/plain": [
       "<Figure size 640x480 with 1 Axes>"
      ]
     },
     "metadata": {},
     "output_type": "display_data"
    }
   ],
   "source": [
    "from tensorflow.keras.models import Model\n",
    "from tensorflow.keras.layers import Input, Dense\n",
    "from tensorflow.keras.callbacks import EarlyStopping\n",
    "import matplotlib.pyplot as plt\n",
    "\n",
    "# Dimensiones del modelo\n",
    "input_dim = X_train.shape[1]\n",
    "encoding_dim = 16  # tamaño del espacio latente\n",
    "\n",
    "# Arquitectura simétrica del Autoencoder\n",
    "inp = Input(shape=(input_dim,))\n",
    "encoded = Dense(32, activation='relu')(inp)\n",
    "encoded = Dense(encoding_dim, activation='relu')(encoded)\n",
    "decoded = Dense(32, activation='relu')(encoded)\n",
    "out = Dense(input_dim, activation='sigmoid')(decoded)\n",
    "\n",
    "autoencoder = Model(inp, out)\n",
    "autoencoder.compile(optimizer='adam', loss='mse')\n",
    "\n",
    "print(\"Estructura del Autoencoder:\")\n",
    "autoencoder.summary()\n",
    "\n",
    "# Entrenamiento con early stopping\n",
    "es = EarlyStopping(monitor='val_loss', patience=3, restore_best_weights=True)\n",
    "\n",
    "print(\"\\nEntrenando el modelo...\")\n",
    "hist = autoencoder.fit(\n",
    "    X_train, X_train,\n",
    "    epochs=50,\n",
    "    batch_size=256,\n",
    "    validation_data=(X_val, X_val),\n",
    "    callbacks=[es],\n",
    "    verbose=0\n",
    ")\n",
    "\n",
    "print(\"Entrenamiento finalizado.\")\n",
    "print(f\"Mejor pérdida de validación: {min(hist.history['val_loss']):.6f}\")\n",
    "\n",
    "# Gráfico opcional de las pérdidas\n",
    "plt.plot(hist.history['loss'], label='Entrenamiento')\n",
    "plt.plot(hist.history['val_loss'], label='Validación')\n",
    "plt.title('Evolución del error MSE durante el entrenamiento')\n",
    "plt.xlabel('Épocas')\n",
    "plt.ylabel('MSE')\n",
    "plt.legend()\n",
    "plt.show()\n"
   ]
  },
  {
   "cell_type": "markdown",
   "id": "8ed656ca",
   "metadata": {},
   "source": [
    "Luego se calculamos el error de reconstrucción y se fija un umbral."
   ]
  },
  {
   "cell_type": "code",
   "execution_count": 11,
   "id": "b04bf061",
   "metadata": {},
   "outputs": [
    {
     "name": "stdout",
     "output_type": "stream",
     "text": [
      "Entrenando modelos clásicos de detección de anomalías...\n",
      "Isolation Forest entrenado.\n"
     ]
    },
    {
     "name": "stderr",
     "output_type": "stream",
     "text": [
      "c:\\Users\\cvall\\AppData\\Local\\Programs\\Python\\Python313\\Lib\\site-packages\\sklearn\\utils\\validation.py:2749: UserWarning: X does not have valid feature names, but LocalOutlierFactor was fitted with feature names\n",
      "  warnings.warn(\n"
     ]
    },
    {
     "name": "stdout",
     "output_type": "stream",
     "text": [
      "Local Outlier Factor entrenado.\n",
      "\n",
      "Tamaños de los vectores de puntaje:\n",
      " - Isolation Forest: (340207,)\n",
      " - LOF: (340207,)\n"
     ]
    }
   ],
   "source": [
    "from sklearn.ensemble import IsolationForest\n",
    "from sklearn.neighbors import LocalOutlierFactor\n",
    "\n",
    "print(\"Entrenando modelos clásicos de detección de anomalías...\")\n",
    "\n",
    "# Isolation Forest\n",
    "iso = IsolationForest(\n",
    "    contamination=0.1,   # proporción estimada de anomalías\n",
    "    random_state=42,\n",
    "    n_jobs=-1            # usa todos los núcleos disponibles\n",
    ")\n",
    "iso.fit(X_train)\n",
    "scores_iso = -iso.decision_function(X_test)  # valores altos = más anómalos\n",
    "print(\"Isolation Forest entrenado.\")\n",
    "\n",
    "# Local Outlier Factor (modo 'novelty' para permitir predicción)\n",
    "lof = LocalOutlierFactor(\n",
    "    n_neighbors=20,\n",
    "    novelty=True,         # permite usar .predict() y .decision_function() después\n",
    "    n_jobs=-1\n",
    ")\n",
    "lof.fit(X_train)\n",
    "scores_lof = -lof.decision_function(X_test)\n",
    "print(\"Local Outlier Factor entrenado.\")\n",
    "\n",
    "print(\"\\nTamaños de los vectores de puntaje:\")\n",
    "print(f\" - Isolation Forest: {scores_iso.shape}\")\n",
    "print(f\" - LOF: {scores_lof.shape}\")"
   ]
  },
  {
   "cell_type": "markdown",
   "id": "1e75da65",
   "metadata": {},
   "source": [
    "### Isolation Forest y LOF"
   ]
  },
  {
   "cell_type": "code",
   "execution_count": 12,
   "id": "0b33da27",
   "metadata": {},
   "outputs": [
    {
     "name": "stdout",
     "output_type": "stream",
     "text": [
      "\u001b[1m1328/1328\u001b[0m \u001b[32m━━━━━━━━━━━━━━━━━━━━\u001b[0m\u001b[37m\u001b[0m \u001b[1m1s\u001b[0m 504us/step\n",
      "Umbral de detección (percentil 95): 0.231331\n"
     ]
    },
    {
     "data": {
      "image/png": "[encoded data removed]",
      "text/plain": [
       "<Figure size 700x400 with 1 Axes>"
      ]
     },
     "metadata": {},
     "output_type": "display_data"
    }
   ],
   "source": [
    "import numpy as np\n",
    "import matplotlib.pyplot as plt\n",
    "\n",
    "# Predicción sobre el conjunto de validación\n",
    "recon_val = autoencoder.predict(X_val)\n",
    "\n",
    "# Calcular el error MSE de reconstrucción\n",
    "mse_val = np.mean(np.square(X_val - recon_val), axis=1)\n",
    "\n",
    "# Seleccionar umbral (percentil 95 del error de validación)\n",
    "thr = np.percentile(mse_val, 95)\n",
    "print(f\"Umbral de detección (percentil 95): {thr:.6f}\")\n",
    "\n",
    "# Visualizar distribución del error\n",
    "plt.figure(figsize=(7,4))\n",
    "plt.hist(mse_val, bins=50, color='skyblue', edgecolor='gray')\n",
    "plt.axvline(thr, color='red', linestyle='--', label='Umbral (95%)')\n",
    "plt.title(\"Distribución del error de reconstrucción (validación)\")\n",
    "plt.xlabel(\"MSE\")\n",
    "plt.ylabel(\"Frecuencia\")\n",
    "plt.legend()\n",
    "plt.show()"
   ]
  },
  {
   "cell_type": "markdown",
   "id": "e9ac2a30",
   "metadata": {},
   "source": [
    "### Modelos de comparación: Isolation Forest y LOF"
   ]
  },
  {
   "cell_type": "code",
   "execution_count": 13,
   "id": "d9e8d036",
   "metadata": {},
   "outputs": [
    {
     "name": "stdout",
     "output_type": "stream",
     "text": [
      "Modelo Isolation Forest entrenado correctamente.\n"
     ]
    },
    {
     "name": "stderr",
     "output_type": "stream",
     "text": [
      "c:\\Users\\cvall\\AppData\\Local\\Programs\\Python\\Python313\\Lib\\site-packages\\sklearn\\utils\\validation.py:2749: UserWarning: X does not have valid feature names, but LocalOutlierFactor was fitted with feature names\n",
      "  warnings.warn(\n"
     ]
    },
    {
     "name": "stdout",
     "output_type": "stream",
     "text": [
      "Modelo LOF entrenado correctamente.\n"
     ]
    }
   ],
   "source": [
    "from sklearn.ensemble import IsolationForest\n",
    "from sklearn.neighbors import LocalOutlierFactor\n",
    "\n",
    "# Isolation Forest\n",
    "iso = IsolationForest(contamination=0.1, random_state=42)\n",
    "iso.fit(X_train)\n",
    "\n",
    "# El método decision_function da valores más altos para normales → por eso se multiplica por -1\n",
    "scores_iso = -iso.decision_function(X_test)\n",
    "\n",
    "print(\"Modelo Isolation Forest entrenado correctamente.\")\n",
    "\n",
    "# Local Outlier Factor (LOF)\n",
    "lof = LocalOutlierFactor(n_neighbors=20, novelty=True)\n",
    "lof.fit(X_train)\n",
    "\n",
    "# Igual que antes, se usa el negativo para que valores mayores signifiquen más anomalía\n",
    "scores_lof = -lof.decision_function(X_test)\n",
    "\n",
    "print(\"Modelo LOF entrenado correctamente.\")\n"
   ]
  },
  {
   "cell_type": "markdown",
   "id": "1e5555e5",
   "metadata": {},
   "source": [
    "### Evaluación"
   ]
  },
  {
   "cell_type": "code",
   "execution_count": 15,
   "id": "35209098",
   "metadata": {},
   "outputs": [
    {
     "name": "stdout",
     "output_type": "stream",
     "text": [
      "\u001b[1m10632/10632\u001b[0m \u001b[32m━━━━━━━━━━━━━━━━━━━━\u001b[0m\u001b[37m\u001b[0m \u001b[1m4s\u001b[0m 378us/step\n",
      "Resultados comparativos de los modelos:\n",
      "\n"
     ]
    },
    {
     "data": {
      "text/html": [
       "<style type=\"text/css\">\n",
       "#T_f1bd5_row0_col0, #T_f1bd5_row0_col1, #T_f1bd5_row1_col2 {\n",
       "  background-color: #f7fbff;\n",
       "  color: #000000;\n",
       "}\n",
       "#T_f1bd5_row0_col2, #T_f1bd5_row2_col0, #T_f1bd5_row2_col1 {\n",
       "  background-color: #08306b;\n",
       "  color: #f1f1f1;\n",
       "}\n",
       "#T_f1bd5_row1_col0 {\n",
       "  background-color: #f0f6fd;\n",
       "  color: #000000;\n",
       "}\n",
       "#T_f1bd5_row1_col1 {\n",
       "  background-color: #e3eef9;\n",
       "  color: #000000;\n",
       "}\n",
       "#T_f1bd5_row2_col2 {\n",
       "  background-color: #f4f9fe;\n",
       "  color: #000000;\n",
       "}\n",
       "</style>\n",
       "<table id=\"T_f1bd5\">\n",
       "  <thead>\n",
       "    <tr>\n",
       "      <th class=\"blank level0\" >&nbsp;</th>\n",
       "      <th id=\"T_f1bd5_level0_col0\" class=\"col_heading level0 col0\" >ROC-AUC</th>\n",
       "      <th id=\"T_f1bd5_level0_col1\" class=\"col_heading level0 col1\" >PR-AUC</th>\n",
       "      <th id=\"T_f1bd5_level0_col2\" class=\"col_heading level0 col2\" >F1</th>\n",
       "    </tr>\n",
       "  </thead>\n",
       "  <tbody>\n",
       "    <tr>\n",
       "      <th id=\"T_f1bd5_level0_row0\" class=\"row_heading level0 row0\" >Autoencoder</th>\n",
       "      <td id=\"T_f1bd5_row0_col0\" class=\"data row0 col0\" >0.6156</td>\n",
       "      <td id=\"T_f1bd5_row0_col1\" class=\"data row0 col1\" >0.9142</td>\n",
       "      <td id=\"T_f1bd5_row0_col2\" class=\"data row0 col2\" >0.2335</td>\n",
       "    </tr>\n",
       "    <tr>\n",
       "      <th id=\"T_f1bd5_level0_row1\" class=\"row_heading level0 row1\" >Isolation Forest</th>\n",
       "      <td id=\"T_f1bd5_row1_col0\" class=\"data row1 col0\" >0.6253</td>\n",
       "      <td id=\"T_f1bd5_row1_col1\" class=\"data row1 col1\" >0.9209</td>\n",
       "      <td id=\"T_f1bd5_row1_col2\" class=\"data row1 col2\" >0.1059</td>\n",
       "    </tr>\n",
       "    <tr>\n",
       "      <th id=\"T_f1bd5_level0_row2\" class=\"row_heading level0 row2\" >LOF</th>\n",
       "      <td id=\"T_f1bd5_row2_col0\" class=\"data row2 col0\" >0.8884</td>\n",
       "      <td id=\"T_f1bd5_row2_col1\" class=\"data row2 col1\" >0.9820</td>\n",
       "      <td id=\"T_f1bd5_row2_col2\" class=\"data row2 col2\" >0.1081</td>\n",
       "    </tr>\n",
       "  </tbody>\n",
       "</table>\n"
      ],
      "text/plain": [
       "<pandas.io.formats.style.Styler at 0x2093990c440>"
      ]
     },
     "metadata": {},
     "output_type": "display_data"
    }
   ],
   "source": [
    "from sklearn.metrics import roc_auc_score, average_precision_score, f1_score\n",
    "\n",
    "def evaluar(y_true, scores, thr=None):\n",
    "    if thr is None:\n",
    "        thr = np.percentile(scores, 95)\n",
    "    y_pred = (scores > thr).astype(int)\n",
    "\n",
    "    return {\n",
    "        \"ROC-AUC\": roc_auc_score(y_true, scores),\n",
    "        \"PR-AUC\": average_precision_score(y_true, scores),\n",
    "        \"F1\": f1_score(y_true, y_pred)\n",
    "    }\n",
    "\n",
    "# Calcular errores del Autoencoder en el conjunto de prueba\n",
    "mse_test = np.mean(np.square(X_test - autoencoder.predict(X_test)), axis=1)\n",
    "\n",
    "# Evaluar los tres modelos\n",
    "res = pd.DataFrame([\n",
    "    evaluar(y_test, mse_test, thr),  # Autoencoder (usando el umbral definido antes)\n",
    "    evaluar(y_test, scores_iso),\n",
    "    evaluar(y_test, scores_lof)\n",
    "], index=[\"Autoencoder\", \"Isolation Forest\", \"LOF\"])\n",
    "\n",
    "# Mostrar tabla resumen\n",
    "print(\"Resultados comparativos de los modelos:\\n\")\n",
    "display(res.style.background_gradient(cmap='Blues').format(precision=4))"
   ]
  }
 ],
 "metadata": {
  "kernelspec": {
   "display_name": "Python 3",
   "language": "python",
   "name": "python3"
  },
  "language_info": {
   "codemirror_mode": {
    "name": "ipython",
    "version": 3
   },
   "file_extension": ".py",
   "mimetype": "text/x-python",
   "name": "python",
   "nbconvert_exporter": "python",
   "pygments_lexer": "ipython3",
   "version": "3.13.7"
  }
 },
 "nbformat": 4,
 "nbformat_minor": 5
}
